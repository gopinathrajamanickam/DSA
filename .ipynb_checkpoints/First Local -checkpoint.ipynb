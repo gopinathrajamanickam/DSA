{
 "cells": [
  {
   "cell_type": "code",
   "execution_count": 1,
   "id": "8746c0db",
   "metadata": {},
   "outputs": [
    {
     "name": "stdout",
     "output_type": "stream",
     "text": [
      "Hello World\n"
     ]
    }
   ],
   "source": [
    "print('Hello World')"
   ]
  },
  {
   "cell_type": "code",
   "execution_count": 13,
   "id": "ca98fe3f",
   "metadata": {},
   "outputs": [
    {
     "name": "stdout",
     "output_type": "stream",
     "text": [
      "[200, 300, 1000]\n"
     ]
    }
   ],
   "source": [
    "arr = [-5,200,300,-10,10,1000]\n",
    "arr2 = [True,False,True,False]\n",
    "\n",
    "print([x for x in arr if x > 100])"
   ]
  },
  {
   "cell_type": "code",
   "execution_count": 6,
   "id": "3f929fc0",
   "metadata": {},
   "outputs": [
    {
     "data": {
      "text/plain": [
       "<function __main__.<lambda>(x)>"
      ]
     },
     "execution_count": 6,
     "metadata": {},
     "output_type": "execute_result"
    }
   ],
   "source": [
    "# this is making an anonymous function\n",
    "\n",
    "lambda x:x > 100"
   ]
  },
  {
   "cell_type": "code",
   "execution_count": 8,
   "id": "f5cb72fd",
   "metadata": {},
   "outputs": [
    {
     "data": {
      "text/plain": [
       "<filter at 0x7fdee4796a60>"
      ]
     },
     "execution_count": 8,
     "metadata": {},
     "output_type": "execute_result"
    }
   ],
   "source": [
    "# Filter function applies the given function on the given list \n",
    "filter(lambda x:x > 100, arr)"
   ]
  },
  {
   "cell_type": "code",
   "execution_count": 9,
   "id": "8b8e2b92",
   "metadata": {},
   "outputs": [
    {
     "data": {
      "text/plain": [
       "[200, 300, 1000]"
      ]
     },
     "execution_count": 9,
     "metadata": {},
     "output_type": "execute_result"
    }
   ],
   "source": [
    "# Convert the result into a list type\n",
    "list(filter(lambda x:x > 100, arr))\n"
   ]
  },
  {
   "cell_type": "code",
   "execution_count": 18,
   "id": "4ecb9042",
   "metadata": {},
   "outputs": [
    {
     "data": {
      "text/plain": [
       "[-5, 200, 300, -10, 10, 1000]"
      ]
     },
     "execution_count": 18,
     "metadata": {},
     "output_type": "execute_result"
    }
   ],
   "source": [
    "list(filter(lambda x:x*2, arr))\n"
   ]
  },
  {
   "cell_type": "code",
   "execution_count": 15,
   "id": "00d3860b",
   "metadata": {},
   "outputs": [
    {
     "data": {
      "text/plain": [
       "[25, 40000, 90000, 100, 100, 1000000]"
      ]
     },
     "execution_count": 15,
     "metadata": {},
     "output_type": "execute_result"
    }
   ],
   "source": [
    "list(map(lambda x:x**2, arr))\n",
    "# Map can be used for data Transformation. It applies the function to every every element of the array. and creates\n",
    "# a new array "
   ]
  },
  {
   "cell_type": "code",
   "execution_count": 20,
   "id": "ff417520",
   "metadata": {},
   "outputs": [
    {
     "data": {
      "text/plain": [
       "[-5, 200, 300, -10, 10, 1000]"
      ]
     },
     "execution_count": 20,
     "metadata": {},
     "output_type": "execute_result"
    }
   ],
   "source": [
    "list(filter(lambda x:x**2, arr))\n",
    "\n",
    "# The filter fucntion applies the lambda function to each element on the list and returns only for those it is True \n",
    "# or successful it just returns the original value  from the list and not  the calculated result \n"
   ]
  },
  {
   "cell_type": "markdown",
   "id": "a2992813",
   "metadata": {},
   "source": [
    "## Data Aggregation"
   ]
  },
  {
   "cell_type": "code",
   "execution_count": 22,
   "id": "72e3904d",
   "metadata": {},
   "outputs": [
    {
     "name": "stdout",
     "output_type": "stream",
     "text": [
      "1495\n"
     ]
    }
   ],
   "source": [
    "# Use reduce function\n",
    "\n",
    "from functools import reduce \n",
    "\n",
    "def doSum(x1, x2):\n",
    "    return x1 + x2\n",
    "\n",
    "x = reduce(doSum,arr)\n",
    "print(x)\n",
    "\n",
    "# The Reduce function needs a aggregation function to be defined\n",
    "# It will apply this elements iteratively \n",
    "\n"
   ]
  },
  {
   "cell_type": "markdown",
   "id": "60bd7526",
   "metadata": {},
   "source": [
    "### Range"
   ]
  },
  {
   "cell_type": "code",
   "execution_count": 24,
   "id": "384511a5",
   "metadata": {},
   "outputs": [
    {
     "data": {
      "text/plain": [
       "range(0, 6)"
      ]
     },
     "execution_count": 24,
     "metadata": {},
     "output_type": "execute_result"
    }
   ],
   "source": [
    "range(6)"
   ]
  },
  {
   "cell_type": "code",
   "execution_count": 25,
   "id": "ef5bc319",
   "metadata": {},
   "outputs": [
    {
     "name": "stdout",
     "output_type": "stream",
     "text": [
      "range(0, 6)\n"
     ]
    }
   ],
   "source": [
    "print(range(6))"
   ]
  },
  {
   "cell_type": "code",
   "execution_count": 26,
   "id": "944d1278",
   "metadata": {},
   "outputs": [
    {
     "name": "stdout",
     "output_type": "stream",
     "text": [
      "range(3, 29, 2)\n"
     ]
    }
   ],
   "source": [
    "oddNum = range(3,29,2)\n",
    "print(oddNum)"
   ]
  },
  {
   "cell_type": "code",
   "execution_count": 27,
   "id": "dec7965f",
   "metadata": {},
   "outputs": [
    {
     "name": "stdout",
     "output_type": "stream",
     "text": [
      "[3, 5, 7, 9, 11, 13, 15, 17, 19, 21, 23, 25, 27]\n"
     ]
    }
   ],
   "source": [
    "print([x for x in oddNum])"
   ]
  },
  {
   "cell_type": "code",
   "execution_count": 28,
   "id": "a3a42dc5",
   "metadata": {},
   "outputs": [
    {
     "data": {
      "text/plain": [
       "'Green'"
      ]
     },
     "execution_count": 28,
     "metadata": {},
     "output_type": "execute_result"
    }
   ],
   "source": [
    "bin_colors=('Red','Green','Blue')\n",
    "bin_colors[1]"
   ]
  },
  {
   "cell_type": "code",
   "execution_count": 31,
   "id": "3b6af85c",
   "metadata": {},
   "outputs": [
    {
     "data": {
      "text/plain": [
       "('Blue',)"
      ]
     },
     "execution_count": 31,
     "metadata": {},
     "output_type": "execute_result"
    }
   ],
   "source": [
    "bin_colors[2:]        "
   ]
  },
  {
   "cell_type": "code",
   "execution_count": 30,
   "id": "40d08350",
   "metadata": {},
   "outputs": [
    {
     "data": {
      "text/plain": [
       "('Red', 'Green')"
      ]
     },
     "execution_count": 30,
     "metadata": {},
     "output_type": "execute_result"
    }
   ],
   "source": [
    "bin_colors[:-1]"
   ]
  },
  {
   "cell_type": "code",
   "execution_count": 33,
   "id": "9e09c5f4",
   "metadata": {},
   "outputs": [
    {
     "data": {
      "text/plain": [
       "300"
      ]
     },
     "execution_count": 33,
     "metadata": {},
     "output_type": "execute_result"
    }
   ],
   "source": [
    "a = (1,2,(100,200,300),6)\n",
    "max(a[2])"
   ]
  },
  {
   "cell_type": "code",
   "execution_count": 34,
   "id": "31fb23dd",
   "metadata": {},
   "outputs": [
    {
     "data": {
      "text/plain": [
       "200"
      ]
     },
     "execution_count": 34,
     "metadata": {},
     "output_type": "execute_result"
    }
   ],
   "source": [
    "a[2][1]"
   ]
  },
  {
   "cell_type": "markdown",
   "id": "a6e205fe",
   "metadata": {},
   "source": [
    "## List - Ordered mutable \n",
    "\n",
    "## Tuple - Ordered immutable\n",
    "\n",
    "Immutable data structure are better for Big Data performance  "
   ]
  },
  {
   "cell_type": "markdown",
   "id": "073a2366",
   "metadata": {},
   "source": [
    "## Dictionary  -- key value pairs -- helpful for distributed algorithms "
   ]
  },
  {
   "cell_type": "code",
   "execution_count": 35,
   "id": "82f9c93b",
   "metadata": {},
   "outputs": [
    {
     "name": "stdout",
     "output_type": "stream",
     "text": [
      "{'manual': 'Yellow', 'approved': 'Green', 'refuced': 'Red'}\n"
     ]
    }
   ],
   "source": [
    "bin_colors = {\n",
    "    \"manual\": \"Yellow\",\n",
    "    \"approved\" : \"Green\",\n",
    "    \"refuced\" :\"Red\"\n",
    "}\n",
    "print(bin_colors)"
   ]
  },
  {
   "cell_type": "markdown",
   "id": "4145a580",
   "metadata": {},
   "source": [
    "## Sets -- Immutable -- used for set operations like 'and' , 'or' , 'union', 'intersection'"
   ]
  },
  {
   "cell_type": "code",
   "execution_count": 36,
   "id": "70866b23",
   "metadata": {},
   "outputs": [],
   "source": [
    "## Data Frames \n",
    "## pandas df \n",
    "## axis - single column or row \n",
    "## Axes - more than one axis as a group \n",
    "## LAbel : Both columns and rows can be used to denote Label \n",
    "## Subset of Data Frame \n",
    "## Column Selection\n",
    "    df[['name','age']]\n",
    "    df.iloc[:,3] # Retreved based on the colum position \n",
    "## Row Selection\n",
    "    df.iloc[1:3,:] # \n",
    "\n"
   ]
  },
  {
   "cell_type": "code",
   "execution_count": null,
   "id": "f3dc3647",
   "metadata": {},
   "outputs": [],
   "source": []
  }
 ],
 "metadata": {
  "kernelspec": {
   "display_name": "Python 3 (ipykernel)",
   "language": "python",
   "name": "python3"
  },
  "language_info": {
   "codemirror_mode": {
    "name": "ipython",
    "version": 3
   },
   "file_extension": ".py",
   "mimetype": "text/x-python",
   "name": "python",
   "nbconvert_exporter": "python",
   "pygments_lexer": "ipython3",
   "version": "3.8.10"
  }
 },
 "nbformat": 4,
 "nbformat_minor": 5
}
